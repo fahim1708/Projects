{
 "cells": [
  {
   "attachments": {},
   "cell_type": "markdown",
   "metadata": {},
   "source": [
    "Must run this code first to import required libraries."
   ]
  },
  {
   "cell_type": "code",
   "execution_count": null,
   "metadata": {},
   "outputs": [],
   "source": [
    "from selenium import webdriver\n",
    "from bs4 import BeautifulSoup\n",
    "import time\n",
    "import pandas as pd\n",
    "import csv\n",
    "from urllib.error import HTTPError\n",
    "from urllib.error import URLError\n",
    "import sys"
   ]
  },
  {
   "attachments": {},
   "cell_type": "markdown",
   "metadata": {},
   "source": [
    "Enter the URL of the video of Youtube"
   ]
  },
  {
   "cell_type": "code",
   "execution_count": null,
   "metadata": {},
   "outputs": [],
   "source": [
    "url = input(\"Enter URL:\")\n",
    "driver = webdriver.Chrome()\n",
    "driver.get(url)"
   ]
  },
  {
   "attachments": {},
   "cell_type": "markdown",
   "metadata": {},
   "source": [
    "It will autometically scroll the page to load more comments"
   ]
  },
  {
   "cell_type": "code",
   "execution_count": null,
   "metadata": {},
   "outputs": [],
   "source": [
    "x = 50\n",
    "time.sleep(10)\n",
    "prev_h = 0\n",
    "while True:\n",
    "    height = driver.execute_script(\"\"\"\n",
    "    function getActualHeight() {\n",
    "    return Math.max(\n",
    "    Math.max(document.body.scrollHeight, document.documentElement.scrollHeight),\n",
    "    Math.max(document.body.offsetHeight, document.documentElement.offsetHeight),\n",
    "    Math.max(document.body.clientHeight, document.documentElement.clientHeight),\n",
    "    );\n",
    "    }\n",
    "    return getActualHeight();\n",
    "    \"\"\")\n",
    "    if prev_h > height:\n",
    "        time.sleep(5)\n",
    "    driver.execute_script(f\"window.scrollTo({prev_h},{prev_h+x})\")\n",
    "    prev_h += x\n",
    "    if prev_h > height:\n",
    "        break\n",
    "soup = BeautifulSoup(driver.page_source,'lxml')\n",
    "print(soup)"
   ]
  },
  {
   "attachments": {},
   "cell_type": "markdown",
   "metadata": {},
   "source": [
    "Testing Every Features:"
   ]
  },
  {
   "cell_type": "code",
   "execution_count": null,
   "metadata": {},
   "outputs": [],
   "source": [
    "commentSection = soup.find('div',class_='style-scope ytd-item-section-renderer style-scope ytd-item-section-renderer')\n",
    "commentAmount = commentSection.find('span',class_='style-scope yt-formatted-string').text.strip()\n",
    "title = soup.find(\"div\",class_=\"style-scope ytd-watch-metadata\")\n",
    "title = title.find(\"yt-formatted-string\",class_=\"style-scope ytd-watch-metadata\").text.strip()\n",
    "\n",
    "print(f\"Title: {title}\\n\")\n",
    "print(f\"Total number of comment: {commentAmount}\\n\")"
   ]
  },
  {
   "cell_type": "code",
   "execution_count": null,
   "metadata": {},
   "outputs": [],
   "source": [
    "singleComment = soup.find_all(\"ytd-comment-thread-renderer\",class_=\"style-scope ytd-item-section-renderer\")\n",
    "print(f\"Total comment sections are : {len(singleComment)}\\n\")\n",
    "# print(singleComment)"
   ]
  },
  {
   "cell_type": "code",
   "execution_count": null,
   "metadata": {},
   "outputs": [],
   "source": [
    "name = singleComment[1].find('span',class_='style-scope ytd-comment-renderer style-scope ytd-comment-renderer')"
   ]
  },
  {
   "attachments": {},
   "cell_type": "markdown",
   "metadata": {},
   "source": [
    "Error Handling"
   ]
  },
  {
   "cell_type": "code",
   "execution_count": null,
   "metadata": {},
   "outputs": [],
   "source": [
    "def getName(elem):\n",
    "    try:\n",
    "        name = elem.find('span',class_='style-scope ytd-comment-renderer style-scope ytd-comment-renderer').text.strip()\n",
    "    except AttributeError:\n",
    "        name = ''\n",
    "    return name\n",
    "\n",
    "def getTime(elem):\n",
    "    try:\n",
    "        timeAgo = elem.find(class_='yt-simple-endpoint style-scope yt-formatted-string').text.strip()\n",
    "    except AttributeError:\n",
    "        timeAgo = ''\n",
    "    return timeAgo\n",
    "\n",
    "def getLike(elem):\n",
    "    try:\n",
    "        Like = elem.find('span',class_=\"style-scope ytd-comment-action-buttons-renderer\").text.strip()\n",
    "    except AttributeError:\n",
    "        Like = ''\n",
    "    return Like\n",
    "\n",
    "def getComment(elem):\n",
    "    try:\n",
    "        comment = elem.find('yt-formatted-string',class_='style-scope ytd-comment-renderer').text.strip()\n",
    "    except AttributeError:\n",
    "        comment = ''\n",
    "    return comment\n"
   ]
  },
  {
   "attachments": {},
   "cell_type": "markdown",
   "metadata": {},
   "source": [
    "Storing all the data into lists"
   ]
  },
  {
   "cell_type": "code",
   "execution_count": null,
   "metadata": {},
   "outputs": [],
   "source": [
    "nameList,timeAgoList, LikeList, CommentList = [],[],[],[]\n",
    "for i in singleComment:\n",
    "    name = getName(i)\n",
    "    nameList.append(name)\n",
    "    timeAgo = getTime(i)\n",
    "    timeAgoList.append(timeAgo)\n",
    "    comment = getComment(i)\n",
    "    CommentList.append(comment)\n",
    "    Like = getLike(i)\n",
    "    LikeList.append(Like)"
   ]
  },
  {
   "attachments": {},
   "cell_type": "markdown",
   "metadata": {},
   "source": [
    "Storing all the data into a DataFrame"
   ]
  },
  {
   "cell_type": "code",
   "execution_count": null,
   "metadata": {},
   "outputs": [],
   "source": [
    "dic = {\"Name\":nameList,\"Time Ago\":timeAgo,\"Like\":LikeList,\"Comment\":CommentList}\n",
    "df = pd.DataFrame(dic)\n",
    "df"
   ]
  },
  {
   "attachments": {},
   "cell_type": "markdown",
   "metadata": {},
   "source": [
    "DataFrame to CSV"
   ]
  },
  {
   "cell_type": "code",
   "execution_count": null,
   "metadata": {},
   "outputs": [],
   "source": [
    "# fileName = input(\"Enter the Name of CSV File: \")\n",
    "df.to_csv('set-file-name.csv')"
   ]
  }
 ],
 "metadata": {
  "kernelspec": {
   "display_name": "Python 3",
   "language": "python",
   "name": "python3"
  },
  "language_info": {
   "codemirror_mode": {
    "name": "ipython",
    "version": 3
   },
   "file_extension": ".py",
   "mimetype": "text/x-python",
   "name": "python",
   "nbconvert_exporter": "python",
   "pygments_lexer": "ipython3",
   "version": "3.10.11"
  },
  "orig_nbformat": 4
 },
 "nbformat": 4,
 "nbformat_minor": 2
}
