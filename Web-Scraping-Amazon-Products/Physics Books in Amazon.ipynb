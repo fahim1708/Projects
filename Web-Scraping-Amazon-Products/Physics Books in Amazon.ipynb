{
 "cells": [
  {
   "attachments": {},
   "cell_type": "markdown",
   "id": "49321e1f",
   "metadata": {},
   "source": [
    "Importing Required Libraries"
   ]
  },
  {
   "cell_type": "code",
   "execution_count": 17,
   "id": "b7a7df84",
   "metadata": {},
   "outputs": [],
   "source": [
    "from bs4 import BeautifulSoup\n",
    "from selenium import webdriver\n",
    "import pandas as pd\n",
    "import csv"
   ]
  },
  {
   "attachments": {},
   "cell_type": "markdown",
   "id": "77de018e",
   "metadata": {},
   "source": [
    "Set Chrome as Web Driver\n"
   ]
  },
  {
   "attachments": {},
   "cell_type": "markdown",
   "id": "2da8abfb",
   "metadata": {},
   "source": [
    "It will open chrome browser autometically."
   ]
  },
  {
   "cell_type": "code",
   "execution_count": 18,
   "id": "08d21c0f",
   "metadata": {},
   "outputs": [],
   "source": [
    "driver = webdriver.Chrome()"
   ]
  },
  {
   "attachments": {},
   "cell_type": "markdown",
   "id": "e73dddec",
   "metadata": {},
   "source": [
    "Here, this script is made for Physics Books on Amazon. Therefore, URL is fixed here."
   ]
  },
  {
   "cell_type": "code",
   "execution_count": 19,
   "id": "a9acb198",
   "metadata": {},
   "outputs": [],
   "source": [
    "url = \"https://www.amazon.com/s?k=physics+books&page=2&crid=3QPXBRMK4QQIM&qid=1685274724&sprefix=physics+b%2Caps%2C813&ref=sr_pg_2\""
   ]
  },
  {
   "attachments": {},
   "cell_type": "markdown",
   "id": "4a83601a",
   "metadata": {},
   "source": [
    "Opening the URL through Web Driver (Chrome)"
   ]
  },
  {
   "cell_type": "code",
   "execution_count": 20,
   "id": "dc8cafc7",
   "metadata": {},
   "outputs": [],
   "source": [
    "driver.get(url)"
   ]
  },
  {
   "attachments": {},
   "cell_type": "markdown",
   "id": "23f2bd8e",
   "metadata": {},
   "source": [
    "Creating function for different the features"
   ]
  },
  {
   "cell_type": "code",
   "execution_count": 21,
   "id": "40f8611c",
   "metadata": {},
   "outputs": [],
   "source": [
    "def Title(elem):\n",
    "    try:\n",
    "        title = elem.find('span',class_='a-size-base-plus a-color-base a-text-normal').text\n",
    "    except AttributeError:\n",
    "        title = ''\n",
    "    return title"
   ]
  },
  {
   "cell_type": "code",
   "execution_count": 22,
   "id": "a3b063f2",
   "metadata": {},
   "outputs": [],
   "source": [
    "def Author(elem):\n",
    "    try:\n",
    "        author = elem.find('div',class_='a-row a-size-base a-color-secondary').text\n",
    "        author = author[3:]\n",
    "    except AttributeError:\n",
    "        author = ''\n",
    "    return author"
   ]
  },
  {
   "cell_type": "code",
   "execution_count": 23,
   "id": "20669323",
   "metadata": {},
   "outputs": [],
   "source": [
    "def Rating(elem):\n",
    "    try:\n",
    "        ratingData = elem.find('div',class_='a-section a-spacing-none a-spacing-top-micro')\n",
    "        rating = ratingData.find('span',class_='a-size-base').text\n",
    "    except AttributeError:\n",
    "        rating = ''\n",
    "    return rating"
   ]
  },
  {
   "cell_type": "code",
   "execution_count": 24,
   "id": "9ae7c174",
   "metadata": {},
   "outputs": [],
   "source": [
    "def RatingAmount(elem):\n",
    "    try:\n",
    "        ratingData = elem.find('div',class_='a-section a-spacing-none a-spacing-top-micro')\n",
    "        ratingAmount = ratingData.find('span',class_='a-size-base s-underline-text').text\n",
    "        ratingAmount = ratingAmount[1:len(ratingAmount)-1]\n",
    "    except AttributeError:\n",
    "        ratingAmount = ''\n",
    "    return ratingAmount"
   ]
  },
  {
   "cell_type": "code",
   "execution_count": 25,
   "id": "5fe55992",
   "metadata": {},
   "outputs": [],
   "source": [
    "def TypeOfBook(elem):\n",
    "    try:\n",
    "        Type = elem.find('a',class_=\"a-size-base a-link-normal s-underline-text s-underline-link-text s-link-style a-text-bold\").text\n",
    "    except AttributeError:\n",
    "        Type = ''\n",
    "    return Type"
   ]
  },
  {
   "cell_type": "code",
   "execution_count": 26,
   "id": "58c33407",
   "metadata": {},
   "outputs": [],
   "source": [
    "def Price(elem):\n",
    "    try:\n",
    "        price = elem.find('span',class_='a-price')\n",
    "        price = price.find('span',class_='a-offscreen').text\n",
    "    except AttributeError:\n",
    "        price = ''\n",
    "    return price"
   ]
  },
  {
   "attachments": {},
   "cell_type": "markdown",
   "id": "22eceb61",
   "metadata": {},
   "source": [
    "It will browse all the pages (7pages here) and scrape the data."
   ]
  },
  {
   "cell_type": "code",
   "execution_count": 27,
   "id": "e9ab1b4f",
   "metadata": {},
   "outputs": [
    {
     "name": "stdout",
     "output_type": "stream",
     "text": [
      "Page-1 is done.\n",
      "Page-2 is done.\n",
      "Page-3 is done.\n",
      "Page-4 is done.\n",
      "Page-5 is done.\n",
      "Page-6 is done.\n",
      "Page-7 is done.\n"
     ]
    }
   ],
   "source": [
    "TitleList,AuthorList,RatingList,RatingAmountList,TypeList,PriceList = [],[],[],[],[],[]\n",
    "for i in range(1,8):\n",
    "    url = f'https://www.amazon.com/s?k=physics+books&page={i}'\n",
    "    driver.get(url)\n",
    "    soup = BeautifulSoup(driver.page_source,'lxml')\n",
    "    data = soup.find_all('div',class_='a-section a-spacing-small puis-padding-left-small puis-padding-right-small')\n",
    "    for elem in data:\n",
    "        title = Title(elem)\n",
    "        TitleList.append(title)\n",
    "        author = Author(elem)\n",
    "        AuthorList.append(author)\n",
    "        rating = Rating(elem)\n",
    "        RatingList.append(rating)\n",
    "        ratingAmount = RatingAmount(elem)\n",
    "        RatingAmountList.append(ratingAmount)\n",
    "        Type = TypeOfBook(elem)\n",
    "        TypeList.append(Type)\n",
    "        price = Price(elem)\n",
    "        PriceList.append(price)\n",
    "    print(f'Page-{i} is done.')"
   ]
  },
  {
   "attachments": {},
   "cell_type": "markdown",
   "id": "1d78fdf3",
   "metadata": {},
   "source": [
    "Creating Data frame"
   ]
  },
  {
   "cell_type": "code",
   "execution_count": 54,
   "id": "5cbeea09",
   "metadata": {},
   "outputs": [
    {
     "data": {
      "text/html": [
       "<div>\n",
       "<style scoped>\n",
       "    .dataframe tbody tr th:only-of-type {\n",
       "        vertical-align: middle;\n",
       "    }\n",
       "\n",
       "    .dataframe tbody tr th {\n",
       "        vertical-align: top;\n",
       "    }\n",
       "\n",
       "    .dataframe thead th {\n",
       "        text-align: right;\n",
       "    }\n",
       "</style>\n",
       "<table border=\"1\" class=\"dataframe\">\n",
       "  <thead>\n",
       "    <tr style=\"text-align: right;\">\n",
       "      <th></th>\n",
       "      <th>Title</th>\n",
       "      <th>Author</th>\n",
       "      <th>Rating out of 5</th>\n",
       "      <th>Rating Amount</th>\n",
       "      <th>Type</th>\n",
       "      <th>Price</th>\n",
       "    </tr>\n",
       "  </thead>\n",
       "  <tbody>\n",
       "    <tr>\n",
       "      <th>0</th>\n",
       "      <td>Quantum Physics and the Power of the Mind: Dis...</td>\n",
       "      <td>Nancy Patterson</td>\n",
       "      <td>4.5</td>\n",
       "      <td>1,017</td>\n",
       "      <td>Paperback</td>\n",
       "      <td>$17.29</td>\n",
       "    </tr>\n",
       "    <tr>\n",
       "      <th>1</th>\n",
       "      <td>Essential Trig-based Physics Study Guide Workb...</td>\n",
       "      <td>k 1 of 3: Learn Physics Step-by-Step</td>\n",
       "      <td>4.5</td>\n",
       "      <td>81</td>\n",
       "      <td>Paperback</td>\n",
       "      <td>$17.99</td>\n",
       "    </tr>\n",
       "    <tr>\n",
       "      <th>2</th>\n",
       "      <td>Teach Yourself Physics: a travel companion</td>\n",
       "      <td>Jakob Schwichtenberg</td>\n",
       "      <td>4.5</td>\n",
       "      <td>199</td>\n",
       "      <td>Paperback</td>\n",
       "      <td>$14.99</td>\n",
       "    </tr>\n",
       "    <tr>\n",
       "      <th>3</th>\n",
       "      <td>Basic Physics: A Self-Teaching Guide, 3rd Edit...</td>\n",
       "      <td>t of: Wiley Self-Teaching Guides (17 books)</td>\n",
       "      <td>4.6</td>\n",
       "      <td>635</td>\n",
       "      <td>Paperback</td>\n",
       "      <td>$18.29</td>\n",
       "    </tr>\n",
       "    <tr>\n",
       "      <th>4</th>\n",
       "      <td>Quantum Physics for Beginners: From Wave Theor...</td>\n",
       "      <td>Carl J. Pratt</td>\n",
       "      <td>4.3</td>\n",
       "      <td>1,486</td>\n",
       "      <td>Paperback</td>\n",
       "      <td>$12.95</td>\n",
       "    </tr>\n",
       "    <tr>\n",
       "      <th>...</th>\n",
       "      <td>...</td>\n",
       "      <td>...</td>\n",
       "      <td>...</td>\n",
       "      <td>...</td>\n",
       "      <td>...</td>\n",
       "      <td>...</td>\n",
       "    </tr>\n",
       "    <tr>\n",
       "      <th>393</th>\n",
       "      <td>Periodic Table Advanced (Quick Study)</td>\n",
       "      <td>Inc. BarCharts</td>\n",
       "      <td>4.8</td>\n",
       "      <td>925</td>\n",
       "      <td>Cards</td>\n",
       "      <td>$6.95</td>\n",
       "    </tr>\n",
       "    <tr>\n",
       "      <th>394</th>\n",
       "      <td>Quantum Physics for Beginners: From Wave Theor...</td>\n",
       "      <td>Carl J. Pratt</td>\n",
       "      <td>4.3</td>\n",
       "      <td>1,486</td>\n",
       "      <td>Paperback</td>\n",
       "      <td>$12.95</td>\n",
       "    </tr>\n",
       "    <tr>\n",
       "      <th>395</th>\n",
       "      <td>Sea of Stars</td>\n",
       "      <td>Ivy Smoak</td>\n",
       "      <td>4.2</td>\n",
       "      <td>131</td>\n",
       "      <td>Paperback</td>\n",
       "      <td>$14.99</td>\n",
       "    </tr>\n",
       "    <tr>\n",
       "      <th>396</th>\n",
       "      <td>Physics: A Science in Quest of an Ontology</td>\n",
       "      <td>Wolfgang Smith</td>\n",
       "      <td>4.7</td>\n",
       "      <td>4</td>\n",
       "      <td>Paperback</td>\n",
       "      <td>$19.95</td>\n",
       "    </tr>\n",
       "    <tr>\n",
       "      <th>397</th>\n",
       "      <td>The Direction of Time (Dover Books on Physics)</td>\n",
       "      <td>Hans Reichenbach</td>\n",
       "      <td>4.4</td>\n",
       "      <td>66</td>\n",
       "      <td>Kindle</td>\n",
       "      <td>$9.99</td>\n",
       "    </tr>\n",
       "  </tbody>\n",
       "</table>\n",
       "<p>398 rows × 6 columns</p>\n",
       "</div>"
      ],
      "text/plain": [
       "                                                 Title  \\\n",
       "0    Quantum Physics and the Power of the Mind: Dis...   \n",
       "1    Essential Trig-based Physics Study Guide Workb...   \n",
       "2           Teach Yourself Physics: a travel companion   \n",
       "3    Basic Physics: A Self-Teaching Guide, 3rd Edit...   \n",
       "4    Quantum Physics for Beginners: From Wave Theor...   \n",
       "..                                                 ...   \n",
       "393              Periodic Table Advanced (Quick Study)   \n",
       "394  Quantum Physics for Beginners: From Wave Theor...   \n",
       "395                                       Sea of Stars   \n",
       "396         Physics: A Science in Quest of an Ontology   \n",
       "397     The Direction of Time (Dover Books on Physics)   \n",
       "\n",
       "                                            Author Rating out of 5  \\\n",
       "0                                 Nancy Patterson              4.5   \n",
       "1           k 1 of 3: Learn Physics Step-by-Step               4.5   \n",
       "2                            Jakob Schwichtenberg              4.5   \n",
       "3    t of: Wiley Self-Teaching Guides (17 books)               4.6   \n",
       "4                                   Carl J. Pratt              4.3   \n",
       "..                                             ...             ...   \n",
       "393                                Inc. BarCharts              4.8   \n",
       "394                                 Carl J. Pratt              4.3   \n",
       "395                                     Ivy Smoak              4.2   \n",
       "396                                Wolfgang Smith              4.7   \n",
       "397                              Hans Reichenbach              4.4   \n",
       "\n",
       "    Rating Amount       Type   Price  \n",
       "0           1,017  Paperback  $17.29  \n",
       "1              81  Paperback  $17.99  \n",
       "2             199  Paperback  $14.99  \n",
       "3             635  Paperback  $18.29  \n",
       "4           1,486  Paperback  $12.95  \n",
       "..            ...        ...     ...  \n",
       "393           925      Cards   $6.95  \n",
       "394         1,486  Paperback  $12.95  \n",
       "395           131  Paperback  $14.99  \n",
       "396             4  Paperback  $19.95  \n",
       "397            66     Kindle   $9.99  \n",
       "\n",
       "[398 rows x 6 columns]"
      ]
     },
     "execution_count": 54,
     "metadata": {},
     "output_type": "execute_result"
    }
   ],
   "source": [
    "dic = {'Title':TitleList,'Author':AuthorList,'Rating out of 5':RatingList,'Rating Amount':RatingAmountList,'Type':TypeList,'Price':PriceList}\n",
    "df = pd.DataFrame(dic)\n",
    "df"
   ]
  },
  {
   "attachments": {},
   "cell_type": "markdown",
   "id": "ed46dc0a",
   "metadata": {},
   "source": [
    "Saving the data into a CSV file"
   ]
  },
  {
   "cell_type": "code",
   "execution_count": 55,
   "id": "7ce63df9",
   "metadata": {},
   "outputs": [],
   "source": [
    "df.to_csv('Physics Books in amazon.csv')"
   ]
  }
 ],
 "metadata": {
  "kernelspec": {
   "display_name": "Python 3 (ipykernel)",
   "language": "python",
   "name": "python3"
  },
  "language_info": {
   "codemirror_mode": {
    "name": "ipython",
    "version": 3
   },
   "file_extension": ".py",
   "mimetype": "text/x-python",
   "name": "python",
   "nbconvert_exporter": "python",
   "pygments_lexer": "ipython3",
   "version": "3.10.11"
  }
 },
 "nbformat": 4,
 "nbformat_minor": 5
}
